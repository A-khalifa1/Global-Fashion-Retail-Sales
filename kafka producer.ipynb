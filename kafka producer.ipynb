{
 "cells": [
  {
   "cell_type": "code",
   "execution_count": 1,
   "metadata": {},
   "outputs": [
    {
     "name": "stdout",
     "output_type": "stream",
     "text": [
      "Collecting kafka-python\n",
      "  Downloading kafka_python-2.1.5-py2.py3-none-any.whl.metadata (9.2 kB)\n",
      "Downloading kafka_python-2.1.5-py2.py3-none-any.whl (285 kB)\n",
      "\u001b[2K   \u001b[90m━━━━━━━━━━━━━━━━━━━━━━━━━━━━━━━━━━━━━━━━\u001b[0m \u001b[32m285.4/285.4 kB\u001b[0m \u001b[31m1.0 MB/s\u001b[0m eta \u001b[36m0:00:00\u001b[0ma \u001b[36m0:00:01\u001b[0m\n",
      "\u001b[?25hInstalling collected packages: kafka-python\n",
      "Successfully installed kafka-python-2.1.5\n",
      "Note: you may need to restart the kernel to use updated packages.\n"
     ]
    }
   ],
   "source": [
    "pip install kafka-python\n"
   ]
  },
  {
   "cell_type": "code",
   "execution_count": 3,
   "metadata": {},
   "outputs": [
    {
     "name": "stdout",
     "output_type": "stream",
     "text": [
      "Sent: {'Invoice ID': 'INV-PT-035-01490967', 'Line': '1', 'Customer ID': '1640727', 'Product ID': '13397', 'Size': 'M', 'Color': '', 'Unit Price': '20.0', 'Quantity': '1', 'Date': '2024-12-28T09:56:00.000+02:00', 'Discount': '0.5', 'Line Total': '10.0', 'Store ID': '35', 'Employee ID': '403', 'Currency': 'EUR', 'Currency Symbol': '€', 'SKU': 'FESK13397-M-', 'Transaction Type': 'Sale', 'Payment Method': 'Cash', 'Invoice Total': '103.25'}\n",
      "Sent: {'Invoice ID': 'INV-PT-035-01490967', 'Line': '2', 'Customer ID': '1640727', 'Product ID': '12795', 'Size': 'S', 'Color': 'GREEN', 'Unit Price': '65.5', 'Quantity': '1', 'Date': '2024-12-28T09:56:00.000+02:00', 'Discount': '0.5', 'Line Total': '32.75', 'Store ID': '35', 'Employee ID': '403', 'Currency': 'EUR', 'Currency Symbol': '€', 'SKU': 'FEDR12795-S-GREEN', 'Transaction Type': 'Sale', 'Payment Method': 'Cash', 'Invoice Total': '103.25'}\n",
      "Sent: {'Invoice ID': 'INV-PT-035-01490967', 'Line': '3', 'Customer ID': '1640727', 'Product ID': '13112', 'Size': 'M', 'Color': '', 'Unit Price': '121.0', 'Quantity': '1', 'Date': '2024-12-28T09:56:00.000+02:00', 'Discount': '0.5', 'Line Total': '60.5', 'Store ID': '35', 'Employee ID': '403', 'Currency': 'EUR', 'Currency Symbol': '€', 'SKU': 'FESU13112-M-', 'Transaction Type': 'Sale', 'Payment Method': 'Cash', 'Invoice Total': '103.25'}\n",
      "Sent: {'Invoice ID': 'INV-PT-035-01490968', 'Line': '1', 'Customer ID': '1640946', 'Product ID': '13673', 'Size': 'M', 'Color': '', 'Unit Price': '68.0', 'Quantity': '1', 'Date': '2024-12-28T10:46:00.000+02:00', 'Discount': '0.5', 'Line Total': '34.0', 'Store ID': '35', 'Employee ID': '400', 'Currency': 'EUR', 'Currency Symbol': '€', 'SKU': 'CHCO13673-M-', 'Transaction Type': 'Sale', 'Payment Method': 'Credit Card', 'Invoice Total': '34.0'}\n",
      "Sent: {'Invoice ID': 'INV-PT-035-01490969', 'Line': '1', 'Customer ID': '1641426', 'Product ID': '14386', 'Size': 'S', 'Color': '', 'Unit Price': '113.0', 'Quantity': '1', 'Date': '2024-12-28T10:11:00.000+02:00', 'Discount': '0.5', 'Line Total': '56.5', 'Store ID': '35', 'Employee ID': '404', 'Currency': 'EUR', 'Currency Symbol': '€', 'SKU': 'FESU14386-S-', 'Transaction Type': 'Sale', 'Payment Method': 'Credit Card', 'Invoice Total': '96.25'}\n",
      "Sent: {'Invoice ID': 'INV-PT-035-01490969', 'Line': '2', 'Customer ID': '1641426', 'Product ID': '13575', 'Size': 'M', 'Color': 'GOLD', 'Unit Price': '79.5', 'Quantity': '1', 'Date': '2024-12-28T10:11:00.000+02:00', 'Discount': '0.5', 'Line Total': '39.75', 'Store ID': '35', 'Employee ID': '404', 'Currency': 'EUR', 'Currency Symbol': '€', 'SKU': 'FEDR13575-M-GOLD', 'Transaction Type': 'Sale', 'Payment Method': 'Credit Card', 'Invoice Total': '96.25'}\n",
      "Sent: {'Invoice ID': 'INV-PT-035-01490970', 'Line': '1', 'Customer ID': '1640181', 'Product ID': '13186', 'Size': 'XL', 'Color': '', 'Unit Price': '53.5', 'Quantity': '1', 'Date': '2024-12-28T15:08:00.000+02:00', 'Discount': '0.5', 'Line Total': '26.75', 'Store ID': '35', 'Employee ID': '404', 'Currency': 'EUR', 'Currency Symbol': '€', 'SKU': 'FESH13186-XL-', 'Transaction Type': 'Sale', 'Payment Method': 'Credit Card', 'Invoice Total': '26.75'}\n",
      "Sent: {'Invoice ID': 'INV-PT-035-01490971', 'Line': '1', 'Customer ID': '1635298', 'Product ID': '14915', 'Size': 'M', 'Color': '', 'Unit Price': '110.5', 'Quantity': '1', 'Date': '2024-12-28T09:13:00.000+02:00', 'Discount': '0.5', 'Line Total': '55.25', 'Store ID': '35', 'Employee ID': '400', 'Currency': 'EUR', 'Currency Symbol': '€', 'SKU': 'MASU14915-M-', 'Transaction Type': 'Sale', 'Payment Method': 'Cash', 'Invoice Total': '55.25'}\n",
      "Sent: {'Invoice ID': 'INV-PT-035-01490972', 'Line': '1', 'Customer ID': '1638809', 'Product ID': '13236', 'Size': 'M', 'Color': 'WHITE', 'Unit Price': '34.5', 'Quantity': '1', 'Date': '2024-12-28T10:13:00.000+02:00', 'Discount': '0.5', 'Line Total': '17.25', 'Store ID': '35', 'Employee ID': '399', 'Currency': 'EUR', 'Currency Symbol': '€', 'SKU': 'FESW13236-M-WHITE', 'Transaction Type': 'Sale', 'Payment Method': 'Credit Card', 'Invoice Total': '77.25'}\n",
      "Sent: {'Invoice ID': 'INV-PT-035-01490972', 'Line': '2', 'Customer ID': '1638809', 'Product ID': '14209', 'Size': 'L', 'Color': 'BLACK', 'Unit Price': '59.5', 'Quantity': '1', 'Date': '2024-12-28T10:13:00.000+02:00', 'Discount': '0.5', 'Line Total': '29.75', 'Store ID': '35', 'Employee ID': '399', 'Currency': 'EUR', 'Currency Symbol': '€', 'SKU': 'MASW14209-L-BLACK', 'Transaction Type': 'Sale', 'Payment Method': 'Credit Card', 'Invoice Total': '77.25'}\n",
      "Sent: {'Invoice ID': 'INV-PT-035-01490972', 'Line': '3', 'Customer ID': '1638809', 'Product ID': '11989', 'Size': 'M', 'Color': 'BLUE', 'Unit Price': '60.5', 'Quantity': '1', 'Date': '2024-12-28T10:13:00.000+02:00', 'Discount': '0.5', 'Line Total': '30.25', 'Store ID': '35', 'Employee ID': '399', 'Currency': 'EUR', 'Currency Symbol': '€', 'SKU': 'FEDR11989-M-BLUE', 'Transaction Type': 'Sale', 'Payment Method': 'Credit Card', 'Invoice Total': '77.25'}\n",
      "Sent: {'Invoice ID': 'INV-PT-035-01490973', 'Line': '1', 'Customer ID': '1637665', 'Product ID': '14005', 'Size': 'M', 'Color': 'SILVER', 'Unit Price': '74.0', 'Quantity': '1', 'Date': '2024-12-28T10:20:00.000+02:00', 'Discount': '0.5', 'Line Total': '37.0', 'Store ID': '35', 'Employee ID': '403', 'Currency': 'EUR', 'Currency Symbol': '€', 'SKU': 'MASU14005-M-SILVER', 'Transaction Type': 'Sale', 'Payment Method': 'Cash', 'Invoice Total': '54.25'}\n",
      "Sent: {'Invoice ID': 'INV-PT-035-01490973', 'Line': '2', 'Customer ID': '1637665', 'Product ID': '13267', 'Size': 'S', 'Color': '', 'Unit Price': '34.5', 'Quantity': '1', 'Date': '2024-12-28T10:20:00.000+02:00', 'Discount': '0.5', 'Line Total': '17.25', 'Store ID': '35', 'Employee ID': '403', 'Currency': 'EUR', 'Currency Symbol': '€', 'SKU': 'FESK13267-S-', 'Transaction Type': 'Sale', 'Payment Method': 'Cash', 'Invoice Total': '54.25'}\n",
      "Sent: {'Invoice ID': 'INV-PT-035-01490974', 'Line': '1', 'Customer ID': '1638292', 'Product ID': '14888', 'Size': '38', 'Color': '', 'Unit Price': '96.0', 'Quantity': '1', 'Date': '2024-12-28T19:03:00.000+02:00', 'Discount': '0.5', 'Line Total': '48.0', 'Store ID': '35', 'Employee ID': '402', 'Currency': 'EUR', 'Currency Symbol': '€', 'SKU': 'MAPA14888-38-', 'Transaction Type': 'Sale', 'Payment Method': 'Cash', 'Invoice Total': '48.0'}\n",
      "Sent: {'Invoice ID': 'INV-PT-035-01490975', 'Line': '1', 'Customer ID': '1639642', 'Product ID': '14396', 'Size': 'M', 'Color': '', 'Unit Price': '51.0', 'Quantity': '2', 'Date': '2024-12-28T10:29:00.000+02:00', 'Discount': '0.5', 'Line Total': '51.0', 'Store ID': '35', 'Employee ID': '400', 'Currency': 'EUR', 'Currency Symbol': '€', 'SKU': 'MASP14396-M-', 'Transaction Type': 'Sale', 'Payment Method': 'Credit Card', 'Invoice Total': '75.0'}\n",
      "Sent: {'Invoice ID': 'INV-PT-035-01490975', 'Line': '2', 'Customer ID': '1639642', 'Product ID': '13670', 'Size': 'N', 'Color': '', 'Unit Price': '5.0', 'Quantity': '1', 'Date': '2024-12-28T10:29:00.000+02:00', 'Discount': '0.5', 'Line Total': '2.5', 'Store ID': '35', 'Employee ID': '400', 'Currency': 'EUR', 'Currency Symbol': '€', 'SKU': 'MAAC13670--', 'Transaction Type': 'Sale', 'Payment Method': 'Credit Card', 'Invoice Total': '75.0'}\n",
      "Sent: {'Invoice ID': 'INV-PT-035-01490975', 'Line': '3', 'Customer ID': '1639642', 'Product ID': '12144', 'Size': 'M', 'Color': '', 'Unit Price': '43.0', 'Quantity': '1', 'Date': '2024-12-28T10:29:00.000+02:00', 'Discount': '0.5', 'Line Total': '21.5', 'Store ID': '35', 'Employee ID': '400', 'Currency': 'EUR', 'Currency Symbol': '€', 'SKU': 'FESW12144-M-', 'Transaction Type': 'Sale', 'Payment Method': 'Credit Card', 'Invoice Total': '75.0'}\n",
      "Sent: {'Invoice ID': 'INV-PT-035-01490976', 'Line': '1', 'Customer ID': '1597983', 'Product ID': '13626', 'Size': 'M', 'Color': 'GREEN', 'Unit Price': '46.5', 'Quantity': '1', 'Date': '2024-12-28T18:07:00.000+02:00', 'Discount': '0.5', 'Line Total': '23.25', 'Store ID': '35', 'Employee ID': '403', 'Currency': 'EUR', 'Currency Symbol': '€', 'SKU': 'FESW13626-M-GREEN', 'Transaction Type': 'Sale', 'Payment Method': 'Credit Card', 'Invoice Total': '23.25'}\n",
      "Sent: {'Invoice ID': 'INV-PT-035-01490977', 'Line': '1', 'Customer ID': '1638316', 'Product ID': '13914', 'Size': 'S', 'Color': '', 'Unit Price': '24.5', 'Quantity': '1', 'Date': '2024-12-28T20:09:00.000+02:00', 'Discount': '0.5', 'Line Total': '12.25', 'Store ID': '35', 'Employee ID': '399', 'Currency': 'EUR', 'Currency Symbol': '€', 'SKU': 'FESH13914-S-', 'Transaction Type': 'Sale', 'Payment Method': 'Credit Card', 'Invoice Total': '12.25'}\n",
      "Sent: {'Invoice ID': 'INV-PT-035-01490978', 'Line': '1', 'Customer ID': '1541219', 'Product ID': '12452', 'Size': 'P', 'Color': '', 'Unit Price': '38.5', 'Quantity': '1', 'Date': '2024-12-28T09:16:00.000+02:00', 'Discount': '0.5', 'Line Total': '19.25', 'Store ID': '35', 'Employee ID': '402', 'Currency': 'EUR', 'Currency Symbol': '€', 'SKU': 'CHSW12452-P-', 'Transaction Type': 'Sale', 'Payment Method': 'Credit Card', 'Invoice Total': '19.25'}\n",
      "Sent: {'Invoice ID': 'INV-PT-035-01490979', 'Line': '1', 'Customer ID': '1635308', 'Product ID': '13978', 'Size': '46', 'Color': '', 'Unit Price': '87.0', 'Quantity': '3', 'Date': '2024-12-28T10:34:00.000+02:00', 'Discount': '0.5', 'Line Total': '130.5', 'Store ID': '35', 'Employee ID': '402', 'Currency': 'EUR', 'Currency Symbol': '€', 'SKU': 'MAPA13978-46-', 'Transaction Type': 'Sale', 'Payment Method': 'Credit Card', 'Invoice Total': '185.75'}\n",
      "Sent: {'Invoice ID': 'INV-PT-035-01490979', 'Line': '2', 'Customer ID': '1635308', 'Product ID': '13978', 'Size': '38', 'Color': '', 'Unit Price': '87.0', 'Quantity': '1', 'Date': '2024-12-28T10:34:00.000+02:00', 'Discount': '0.5', 'Line Total': '43.5', 'Store ID': '35', 'Employee ID': '402', 'Currency': 'EUR', 'Currency Symbol': '€', 'SKU': 'MAPA13978-38-', 'Transaction Type': 'Sale', 'Payment Method': 'Credit Card', 'Invoice Total': '185.75'}\n",
      "Sent: {'Invoice ID': 'INV-PT-035-01490979', 'Line': '3', 'Customer ID': '1635308', 'Product ID': '13007', 'Size': 'S', 'Color': '', 'Unit Price': '23.5', 'Quantity': '1', 'Date': '2024-12-28T10:34:00.000+02:00', 'Discount': '0.5', 'Line Total': '11.75', 'Store ID': '35', 'Employee ID': '402', 'Currency': 'EUR', 'Currency Symbol': '€', 'SKU': 'FESK13007-S-', 'Transaction Type': 'Sale', 'Payment Method': 'Credit Card', 'Invoice Total': '185.75'}\n",
      "Sent: {'Invoice ID': 'INV-PT-035-01490980', 'Line': '1', 'Customer ID': '1638910', 'Product ID': '14648', 'Size': 'S', 'Color': '', 'Unit Price': '36.0', 'Quantity': '1', 'Date': '2024-12-28T15:30:00.000+02:00', 'Discount': '0.5', 'Line Total': '18.0', 'Store ID': '35', 'Employee ID': '402', 'Currency': 'EUR', 'Currency Symbol': '€', 'SKU': 'FELI14648-S-', 'Transaction Type': 'Sale', 'Payment Method': 'Cash', 'Invoice Total': '18.0'}\n",
      "Sent: {'Invoice ID': 'INV-PT-035-01490981', 'Line': '1', 'Customer ID': '1642780', 'Product ID': '12897', 'Size': 'M', 'Color': 'BLACK', 'Unit Price': '61.5', 'Quantity': '1', 'Date': '2024-12-28T10:29:00.000+02:00', 'Discount': '0.5', 'Line Total': '30.75', 'Store ID': '35', 'Employee ID': '402', 'Currency': 'EUR', 'Currency Symbol': '€', 'SKU': 'FECO12897-M-BLACK', 'Transaction Type': 'Sale', 'Payment Method': 'Credit Card', 'Invoice Total': '30.75'}\n",
      "Sent: {'Invoice ID': 'INV-PT-035-01490982', 'Line': '1', 'Customer ID': '1546386', 'Product ID': '12101', 'Size': 'N', 'Color': '', 'Unit Price': '11.0', 'Quantity': '1', 'Date': '2024-12-28T13:30:00.000+02:00', 'Discount': '0.5', 'Line Total': '5.5', 'Store ID': '35', 'Employee ID': '404', 'Currency': 'EUR', 'Currency Symbol': '€', 'SKU': 'FEAC12101--', 'Transaction Type': 'Sale', 'Payment Method': 'Credit Card', 'Invoice Total': '5.5'}\n",
      "Sent: {'Invoice ID': 'INV-PT-035-01490983', 'Line': '1', 'Customer ID': '1641304', 'Product ID': '12253', 'Size': 'S', 'Color': '', 'Unit Price': '35.5', 'Quantity': '1', 'Date': '2024-12-28T20:29:00.000+02:00', 'Discount': '0.5', 'Line Total': '17.75', 'Store ID': '35', 'Employee ID': '403', 'Currency': 'EUR', 'Currency Symbol': '€', 'SKU': 'FESK12253-S-', 'Transaction Type': 'Sale', 'Payment Method': 'Cash', 'Invoice Total': '17.75'}\n",
      "Sent: {'Invoice ID': 'INV-PT-035-01490984', 'Line': '1', 'Customer ID': '1585472', 'Product ID': '12463', 'Size': 'L', 'Color': '', 'Unit Price': '42.0', 'Quantity': '1', 'Date': '2024-12-28T10:08:00.000+02:00', 'Discount': '0.5', 'Line Total': '21.0', 'Store ID': '35', 'Employee ID': '404', 'Currency': 'EUR', 'Currency Symbol': '€', 'SKU': 'FESP12463-L-', 'Transaction Type': 'Sale', 'Payment Method': 'Credit Card', 'Invoice Total': '21.0'}\n",
      "Sent: {'Invoice ID': 'INV-PT-035-01490985', 'Line': '1', 'Customer ID': '1641282', 'Product ID': '12355', 'Size': 'M', 'Color': '', 'Unit Price': '37.5', 'Quantity': '1', 'Date': '2024-12-28T19:15:00.000+02:00', 'Discount': '0.5', 'Line Total': '18.75', 'Store ID': '35', 'Employee ID': '403', 'Currency': 'EUR', 'Currency Symbol': '€', 'SKU': 'FET-12355-M-', 'Transaction Type': 'Sale', 'Payment Method': 'Credit Card', 'Invoice Total': '93.0'}\n",
      "Sent: {'Invoice ID': 'INV-PT-035-01490985', 'Line': '2', 'Customer ID': '1641282', 'Product ID': '14655', 'Size': 'M', 'Color': '', 'Unit Price': '105.0', 'Quantity': '1', 'Date': '2024-12-28T19:15:00.000+02:00', 'Discount': '0.5', 'Line Total': '52.5', 'Store ID': '35', 'Employee ID': '403', 'Currency': 'EUR', 'Currency Symbol': '€', 'SKU': 'MASU14655-M-', 'Transaction Type': 'Sale', 'Payment Method': 'Credit Card', 'Invoice Total': '93.0'}\n",
      "Sent: {'Invoice ID': 'INV-PT-035-01490985', 'Line': '3', 'Customer ID': '1641282', 'Product ID': '12406', 'Size': 'S', 'Color': '', 'Unit Price': '27.0', 'Quantity': '1', 'Date': '2024-12-28T19:15:00.000+02:00', 'Discount': '0.5', 'Line Total': '13.5', 'Store ID': '35', 'Employee ID': '403', 'Currency': 'EUR', 'Currency Symbol': '€', 'SKU': 'FESH12406-S-', 'Transaction Type': 'Sale', 'Payment Method': 'Credit Card', 'Invoice Total': '93.0'}\n",
      "Sent: {'Invoice ID': 'INV-PT-035-01490985', 'Line': '4', 'Customer ID': '1641282', 'Product ID': '12017', 'Size': 'S', 'Color': '', 'Unit Price': '16.5', 'Quantity': '1', 'Date': '2024-12-28T19:15:00.000+02:00', 'Discount': '0.5', 'Line Total': '8.25', 'Store ID': '35', 'Employee ID': '403', 'Currency': 'EUR', 'Currency Symbol': '€', 'SKU': 'FET-12017-S-', 'Transaction Type': 'Sale', 'Payment Method': 'Credit Card', 'Invoice Total': '93.0'}\n",
      "Sent: {'Invoice ID': 'INV-PT-035-01490986', 'Line': '1', 'Customer ID': '1642766', 'Product ID': '12199', 'Size': 'S', 'Color': '', 'Unit Price': '25.0', 'Quantity': '1', 'Date': '2024-12-28T20:46:00.000+02:00', 'Discount': '0.5', 'Line Total': '12.5', 'Store ID': '35', 'Employee ID': '400', 'Currency': 'EUR', 'Currency Symbol': '€', 'SKU': 'FET-12199-S-', 'Transaction Type': 'Sale', 'Payment Method': 'Credit Card', 'Invoice Total': '12.5'}\n",
      "Sent: {'Invoice ID': 'INV-PT-035-01490987', 'Line': '1', 'Customer ID': '1635931', 'Product ID': '12002', 'Size': '38', 'Color': '', 'Unit Price': '62.0', 'Quantity': '1', 'Date': '2024-12-28T16:04:00.000+02:00', 'Discount': '0.5', 'Line Total': '31.0', 'Store ID': '35', 'Employee ID': '401', 'Currency': 'EUR', 'Currency Symbol': '€', 'SKU': 'MAPA12002-38-', 'Transaction Type': 'Sale', 'Payment Method': 'Credit Card', 'Invoice Total': '31.0'}\n",
      "Sent: {'Invoice ID': 'RET-PT-035-01487826', 'Line': '1', 'Customer ID': '1639901', 'Product ID': '13774', 'Size': 'N', 'Color': '', 'Unit Price': '12.5', 'Quantity': '1', 'Date': '2024-12-28T00:00:00.000+02:00', 'Discount': '0.0', 'Line Total': '-6.25', 'Store ID': '35', 'Employee ID': '403', 'Currency': 'EUR', 'Currency Symbol': '€', 'SKU': 'MAAC13774--', 'Transaction Type': 'Return', 'Payment Method': 'Credit Card', 'Invoice Total': '-6.25'}\n"
     ]
    },
    {
     "ename": "KeyboardInterrupt",
     "evalue": "",
     "output_type": "error",
     "traceback": [
      "\u001b[31m---------------------------------------------------------------------------\u001b[39m",
      "\u001b[31mKeyboardInterrupt\u001b[39m                         Traceback (most recent call last)",
      "\u001b[36mCell\u001b[39m\u001b[36m \u001b[39m\u001b[32mIn[3]\u001b[39m\u001b[32m, line 24\u001b[39m\n\u001b[32m     21\u001b[39m         \u001b[38;5;28;01mexcept\u001b[39;00m \u001b[38;5;167;01mException\u001b[39;00m \u001b[38;5;28;01mas\u001b[39;00m e:\n\u001b[32m     22\u001b[39m             \u001b[38;5;28mprint\u001b[39m(\u001b[33mf\u001b[39m\u001b[33m\"\u001b[39m\u001b[33mError sending message: \u001b[39m\u001b[38;5;132;01m{\u001b[39;00me\u001b[38;5;132;01m}\u001b[39;00m\u001b[33m\"\u001b[39m)\n\u001b[32m---> \u001b[39m\u001b[32m24\u001b[39m         \u001b[43mtime\u001b[49m\u001b[43m.\u001b[49m\u001b[43msleep\u001b[49m\u001b[43m(\u001b[49m\u001b[32;43m5\u001b[39;49m\u001b[43m)\u001b[49m  \u001b[38;5;66;03m# Simulate streaming delay (5 seconds)\u001b[39;00m\n\u001b[32m     26\u001b[39m \u001b[38;5;66;03m# Close the producer once finished\u001b[39;00m\n\u001b[32m     27\u001b[39m producer.flush()  \u001b[38;5;66;03m# Ensure all messages are sent\u001b[39;00m\n",
      "\u001b[31mKeyboardInterrupt\u001b[39m: "
     ]
    }
   ],
   "source": [
    "from kafka import KafkaProducer\n",
    "import time\n",
    "import csv\n",
    "import json\n",
    "\n",
    "# Create a Kafka producer instance\n",
    "producer = KafkaProducer(\n",
    "    bootstrap_servers='localhost:9092',  # Ensure this is the correct address of your Kafka broker\n",
    "    value_serializer=lambda v: json.dumps(v).encode('utf-8')  # Serialize data to JSON format\n",
    ")\n",
    "\n",
    "# Open and read the CSV file\n",
    "with open('stream.csv', newline='', encoding='utf-8') as f:  # Ensure correct file path and encoding\n",
    "    reader = csv.DictReader(f)  # Read CSV into a dictionary\n",
    "    \n",
    "    for row in reader:\n",
    "        # Send each row to Kafka\n",
    "        try:\n",
    "            producer.send('your_topic', value=row)  # Send data to 'your_topic' in Kafka\n",
    "            print(f\"Sent: {row}\")  # Print to track progress\n",
    "        except Exception as e:\n",
    "            print(f\"Error sending message: {e}\")\n",
    "        \n",
    "        time.sleep(5)  # Simulate streaming delay (5 seconds)\n",
    "\n",
    "# Close the producer once finished\n",
    "producer.flush()  # Ensure all messages are sent\n",
    "producer.close()\n"
   ]
  },
  {
   "cell_type": "code",
   "execution_count": null,
   "metadata": {},
   "outputs": [],
   "source": []
  }
 ],
 "metadata": {
  "kernelspec": {
   "display_name": "jupyter_env",
   "language": "python",
   "name": "python3"
  },
  "language_info": {
   "codemirror_mode": {
    "name": "ipython",
    "version": 3
   },
   "file_extension": ".py",
   "mimetype": "text/x-python",
   "name": "python",
   "nbconvert_exporter": "python",
   "pygments_lexer": "ipython3",
   "version": "3.12.3"
  }
 },
 "nbformat": 4,
 "nbformat_minor": 2
}
